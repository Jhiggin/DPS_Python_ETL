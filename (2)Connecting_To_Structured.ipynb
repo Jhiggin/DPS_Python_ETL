{
 "metadata": {
  "language_info": {
   "codemirror_mode": {
    "name": "ipython",
    "version": 3
   },
   "file_extension": ".py",
   "mimetype": "text/x-python",
   "name": "python",
   "nbconvert_exporter": "python",
   "pygments_lexer": "ipython3",
   "version": "3.8.2-final"
  },
  "orig_nbformat": 2,
  "kernelspec": {
   "name": "python38264bit963c37ec71bb4fe48ab26989ee700772",
   "display_name": "Python 3.8.2 64-bit"
  }
 },
 "nbformat": 4,
 "nbformat_minor": 2,
 "cells": [
  {
   "source": [
    "### Import Libraries"
   ],
   "cell_type": "markdown",
   "metadata": {}
  },
  {
   "cell_type": "code",
   "execution_count": null,
   "metadata": {},
   "outputs": [],
   "source": [
    "import pyodbc as sql \n",
    "import pandas as pd\n"
   ]
  },
  {
   "source": [
    "### Define connection string to SQL Server"
   ],
   "cell_type": "markdown",
   "metadata": {}
  },
  {
   "cell_type": "code",
   "execution_count": null,
   "metadata": {},
   "outputs": [],
   "source": [
    "source_db_config = {\n",
    "    'Trusted_Connection': 'yes',\n",
    "    'driver': '{SQL Server}',\n",
    "    'server': '.',\n",
    "    'database': 'AdventureWorksDW2017',\n",
    "    'autocommit': True,\n",
    "}"
   ]
  },
  {
   "source": [
    "### Define the query to be used in the call to SQL"
   ],
   "cell_type": "markdown",
   "metadata": {}
  },
  {
   "cell_type": "code",
   "execution_count": null,
   "metadata": {},
   "outputs": [],
   "source": [
    "sql_query = '''\n",
    "SELECT *, YEAR(OrderDate) AS OrderYear, MONTH(OrderDate) AS OrderMonth, DAY(OrderDate) AS OrderDay\n",
    "  FROM [AdventureWorksDW2017].[dbo].[FactInternetSales] \n",
    "'''"
   ]
  },
  {
   "source": [
    "### Set the connection"
   ],
   "cell_type": "markdown",
   "metadata": {}
  },
  {
   "cell_type": "code",
   "execution_count": null,
   "metadata": {},
   "outputs": [],
   "source": [
    "source_conn = sql.connect(**source_db_config)"
   ]
  },
  {
   "source": [
    "### Call SQL and load data to dataframe for storage"
   ],
   "cell_type": "markdown",
   "metadata": {}
  },
  {
   "cell_type": "code",
   "execution_count": null,
   "metadata": {},
   "outputs": [],
   "source": [
    "df = pd.read_sql(sql_query, source_conn)\n",
    "print(df)"
   ]
  }
 ]
}