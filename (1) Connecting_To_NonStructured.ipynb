{
 "metadata": {
  "language_info": {
   "codemirror_mode": {
    "name": "ipython",
    "version": 3
   },
   "file_extension": ".py",
   "mimetype": "text/x-python",
   "name": "python",
   "nbconvert_exporter": "python",
   "pygments_lexer": "ipython3",
   "version": "3.8.2-final"
  },
  "orig_nbformat": 2,
  "kernelspec": {
   "name": "python38264bit963c37ec71bb4fe48ab26989ee700772",
   "display_name": "Python 3.8.2 64-bit"
  }
 },
 "nbformat": 4,
 "nbformat_minor": 2,
 "cells": [
  {
   "source": [
    "### Import libraries"
   ],
   "cell_type": "markdown",
   "metadata": {}
  },
  {
   "cell_type": "code",
   "execution_count": null,
   "metadata": {},
   "outputs": [],
   "source": [
    "import pandas as pd"
   ]
  },
  {
   "source": [
    "### Read CSV Files into a DataFrame"
   ],
   "cell_type": "markdown",
   "metadata": {}
  },
  {
   "cell_type": "code",
   "execution_count": null,
   "metadata": {},
   "outputs": [],
   "source": [
    "df_csv = pd.read_csv(\"File_Storage/in/FactSales_Export.csv\")\n",
    "print(df_csv.head())"
   ]
  },
  {
   "source": [
    "### Read Excel Files into a DataFrame"
   ],
   "cell_type": "markdown",
   "metadata": {}
  },
  {
   "cell_type": "code",
   "execution_count": null,
   "metadata": {},
   "outputs": [],
   "source": [
    "df_xlsx = pd.read_excel(\"File_Storage/in/FactSales_Export.xlsx\")\n",
    "print(df_xlsx.head())"
   ]
  },
  {
   "source": [
    "### Read Feather File into a DataFrame\n"
   ],
   "cell_type": "markdown",
   "metadata": {}
  },
  {
   "cell_type": "code",
   "execution_count": null,
   "metadata": {},
   "outputs": [],
   "source": [
    "df_feather = pd.read_feather(\"File_Storage/in/FactSales_Export.feather\")\n",
    "print(df_feather.head())"
   ]
  },
  {
   "source": [
    "### Read Pickle File into a DataFrame"
   ],
   "cell_type": "markdown",
   "metadata": {}
  },
  {
   "cell_type": "code",
   "execution_count": null,
   "metadata": {},
   "outputs": [],
   "source": [
    "df_pickle = pd.read_pickle(\"File_Storage/in/FactSales_Export.pkl\", compression=\"gzip\")\n",
    "print(df_pickle.head())"
   ]
  },
  {
   "source": [
    "### Read Parquet file into a DataFrame"
   ],
   "cell_type": "markdown",
   "metadata": {}
  },
  {
   "cell_type": "code",
   "execution_count": null,
   "metadata": {},
   "outputs": [],
   "source": [
    "df_parquet = pd.read_parquet(\"File_Storage/in/FactSales_Export.parquet\")\n",
    "print(df_parquet.head())"
   ]
  }
 ]
}